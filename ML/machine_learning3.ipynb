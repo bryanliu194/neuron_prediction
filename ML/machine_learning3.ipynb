{
 "cells": [
  {
   "cell_type": "markdown",
   "metadata": {},
   "source": [
    "# Machine Learning on top 6 measurements\n",
    "## Missing data is filled in with mean values of each column"
   ]
  },
  {
   "cell_type": "code",
   "execution_count": 1,
   "metadata": {},
   "outputs": [
    {
     "name": "stderr",
     "output_type": "stream",
     "text": [
      "Using TensorFlow backend.\n"
     ]
    }
   ],
   "source": [
    "# Dependencies\n",
    "import pandas as pd\n",
    "import numpy as np\n",
    "from sklearn.model_selection import train_test_split\n",
    "from sklearn.ensemble import RandomForestClassifier\n",
    "from sklearn.metrics import accuracy_score\n",
    "import pickle\n",
    "from sklearn.ensemble import GradientBoostingClassifier\n",
    "# ***Everything below not required for gradient boosting model***\n",
    "# For deep learning model\n",
    "from sklearn.preprocessing import LabelEncoder, StandardScaler\n",
    "from keras.utils import to_categorical\n",
    "from keras.models import Sequential\n",
    "from keras.layers import Dense\n",
    "from keras.models import load_model"
   ]
  },
  {
   "cell_type": "code",
   "execution_count": 7,
   "metadata": {},
   "outputs": [
    {
     "data": {
      "text/html": [
       "<div>\n",
       "<style scoped>\n",
       "    .dataframe tbody tr th:only-of-type {\n",
       "        vertical-align: middle;\n",
       "    }\n",
       "\n",
       "    .dataframe tbody tr th {\n",
       "        vertical-align: top;\n",
       "    }\n",
       "\n",
       "    .dataframe thead th {\n",
       "        text-align: right;\n",
       "    }\n",
       "</style>\n",
       "<table border=\"1\" class=\"dataframe\">\n",
       "  <thead>\n",
       "    <tr style=\"text-align: right;\">\n",
       "      <th></th>\n",
       "      <th>Cell Type</th>\n",
       "      <th>Value</th>\n",
       "      <th>Measurement</th>\n",
       "    </tr>\n",
       "  </thead>\n",
       "  <tbody>\n",
       "    <tr>\n",
       "      <th>0</th>\n",
       "      <td>Dorsal root ganglion cell</td>\n",
       "      <td>-54.30</td>\n",
       "      <td>resting membrane potential</td>\n",
       "    </tr>\n",
       "    <tr>\n",
       "      <th>1</th>\n",
       "      <td>Dorsal root ganglion cell</td>\n",
       "      <td>-27.40</td>\n",
       "      <td>spike threshold</td>\n",
       "    </tr>\n",
       "    <tr>\n",
       "      <th>2</th>\n",
       "      <td>Dorsal root ganglion cell</td>\n",
       "      <td>101.30</td>\n",
       "      <td>spike amplitude</td>\n",
       "    </tr>\n",
       "    <tr>\n",
       "      <th>3</th>\n",
       "      <td>Dorsal root ganglion cell</td>\n",
       "      <td>2.00</td>\n",
       "      <td>spike width</td>\n",
       "    </tr>\n",
       "    <tr>\n",
       "      <th>4</th>\n",
       "      <td>Dorsal root ganglion cell</td>\n",
       "      <td>0.39</td>\n",
       "      <td>rheobase</td>\n",
       "    </tr>\n",
       "  </tbody>\n",
       "</table>\n",
       "</div>"
      ],
      "text/plain": [
       "                   Cell Type   Value                 Measurement\n",
       "0  Dorsal root ganglion cell  -54.30  resting membrane potential\n",
       "1  Dorsal root ganglion cell  -27.40             spike threshold\n",
       "2  Dorsal root ganglion cell  101.30             spike amplitude\n",
       "3  Dorsal root ganglion cell    2.00                 spike width\n",
       "4  Dorsal root ganglion cell    0.39                    rheobase"
      ]
     },
     "execution_count": 7,
     "metadata": {},
     "output_type": "execute_result"
    }
   ],
   "source": [
    "neuro = pd.read_csv(\"all_neuron_data.csv\")\n",
    "neuro.head()"
   ]
  },
  {
   "cell_type": "code",
   "execution_count": 8,
   "metadata": {
    "scrolled": true
   },
   "outputs": [
    {
     "data": {
      "text/html": [
       "<div>\n",
       "<style scoped>\n",
       "    .dataframe tbody tr th:only-of-type {\n",
       "        vertical-align: middle;\n",
       "    }\n",
       "\n",
       "    .dataframe tbody tr th {\n",
       "        vertical-align: top;\n",
       "    }\n",
       "\n",
       "    .dataframe thead th {\n",
       "        text-align: right;\n",
       "    }\n",
       "</style>\n",
       "<table border=\"1\" class=\"dataframe\">\n",
       "  <thead>\n",
       "    <tr style=\"text-align: right;\">\n",
       "      <th></th>\n",
       "      <th>Cell Type</th>\n",
       "      <th>Value</th>\n",
       "      <th>Measurement</th>\n",
       "    </tr>\n",
       "  </thead>\n",
       "  <tbody>\n",
       "    <tr>\n",
       "      <th>0</th>\n",
       "      <td>Dorsal root ganglion cell</td>\n",
       "      <td>-54.30</td>\n",
       "      <td>resting membrane potential</td>\n",
       "    </tr>\n",
       "    <tr>\n",
       "      <th>1</th>\n",
       "      <td>Dorsal root ganglion cell</td>\n",
       "      <td>-27.40</td>\n",
       "      <td>spike threshold</td>\n",
       "    </tr>\n",
       "    <tr>\n",
       "      <th>2</th>\n",
       "      <td>Dorsal root ganglion cell</td>\n",
       "      <td>101.30</td>\n",
       "      <td>spike amplitude</td>\n",
       "    </tr>\n",
       "    <tr>\n",
       "      <th>5</th>\n",
       "      <td>Dorsal root ganglion cell</td>\n",
       "      <td>192.00</td>\n",
       "      <td>input resistance</td>\n",
       "    </tr>\n",
       "    <tr>\n",
       "      <th>7</th>\n",
       "      <td>Spinal cord intermediate horn motor neuron sym...</td>\n",
       "      <td>-59.80</td>\n",
       "      <td>resting membrane potential</td>\n",
       "    </tr>\n",
       "    <tr>\n",
       "      <th>8</th>\n",
       "      <td>Spinal cord intermediate horn motor neuron sym...</td>\n",
       "      <td>1.14</td>\n",
       "      <td>input resistance</td>\n",
       "    </tr>\n",
       "    <tr>\n",
       "      <th>9</th>\n",
       "      <td>Spinal cord intermediate horn motor neuron sym...</td>\n",
       "      <td>92.40</td>\n",
       "      <td>membrane time constant</td>\n",
       "    </tr>\n",
       "    <tr>\n",
       "      <th>11</th>\n",
       "      <td>Spinal cord intermediate horn motor neuron sym...</td>\n",
       "      <td>57.10</td>\n",
       "      <td>spike amplitude</td>\n",
       "    </tr>\n",
       "    <tr>\n",
       "      <th>13</th>\n",
       "      <td>Spinal cord intermediate horn motor neuron sym...</td>\n",
       "      <td>-45.30</td>\n",
       "      <td>spike threshold</td>\n",
       "    </tr>\n",
       "    <tr>\n",
       "      <th>18</th>\n",
       "      <td>Hippocampus CA1 pyramidal cell</td>\n",
       "      <td>-51.50</td>\n",
       "      <td>spike threshold</td>\n",
       "    </tr>\n",
       "  </tbody>\n",
       "</table>\n",
       "</div>"
      ],
      "text/plain": [
       "                                            Cell Type   Value  \\\n",
       "0                           Dorsal root ganglion cell  -54.30   \n",
       "1                           Dorsal root ganglion cell  -27.40   \n",
       "2                           Dorsal root ganglion cell  101.30   \n",
       "5                           Dorsal root ganglion cell  192.00   \n",
       "7   Spinal cord intermediate horn motor neuron sym...  -59.80   \n",
       "8   Spinal cord intermediate horn motor neuron sym...    1.14   \n",
       "9   Spinal cord intermediate horn motor neuron sym...   92.40   \n",
       "11  Spinal cord intermediate horn motor neuron sym...   57.10   \n",
       "13  Spinal cord intermediate horn motor neuron sym...  -45.30   \n",
       "18                     Hippocampus CA1 pyramidal cell  -51.50   \n",
       "\n",
       "                   Measurement  \n",
       "0   resting membrane potential  \n",
       "1              spike threshold  \n",
       "2              spike amplitude  \n",
       "5             input resistance  \n",
       "7   resting membrane potential  \n",
       "8             input resistance  \n",
       "9       membrane time constant  \n",
       "11             spike amplitude  \n",
       "13             spike threshold  \n",
       "18             spike threshold  "
      ]
     },
     "execution_count": 8,
     "metadata": {},
     "output_type": "execute_result"
    }
   ],
   "source": [
    "# Filter down our dataset to only use top 6 measurements\n",
    "neuro_filtered = neuro.loc[(neuro[\"Measurement\"] == \"input resistance\") |\n",
    "                          (neuro[\"Measurement\"] == \"resting membrane potential\") |\n",
    "                          (neuro[\"Measurement\"] == \"spike threshold\") |\n",
    "                          (neuro[\"Measurement\"] == \"spike half-width\") |\n",
    "                          (neuro[\"Measurement\"] == \"spike amplitude\") |\n",
    "                          (neuro[\"Measurement\"] == \"membrane time constant\")]\n",
    "\n",
    "neuro_filtered.head(10)"
   ]
  },
  {
   "cell_type": "code",
   "execution_count": 10,
   "metadata": {},
   "outputs": [
    {
     "data": {
      "text/plain": [
       "{'Cell Type': 'Spinal cord intermediate horn motor neuron sympathetic',\n",
       " 'resting membrane potential': -59.8,\n",
       " 'input resistance': 1.14,\n",
       " 'membrane time constant': 92.4,\n",
       " 'spike amplitude': 57.1,\n",
       " 'spike threshold': -45.3}"
      ]
     },
     "execution_count": 10,
     "metadata": {},
     "output_type": "execute_result"
    }
   ],
   "source": [
    "# Create a list of dictionaries where each dictionary item is a cell type with all of its firing characteristics grouped \n",
    "# together (unlike before where each entry is only a single measurement for a single cell)\n",
    "current_cell = \"\"\n",
    "current_dict = {}\n",
    "big_list = []\n",
    "\n",
    "for index, row in neuro_filtered.iterrows():\n",
    "    if current_cell != row[\"Cell Type\"]:\n",
    "        # if the current cell and next cell are different, make a new empty row\n",
    "        big_list.append(current_dict)\n",
    "        current_dict = {}\n",
    "        current_cell = row[\"Cell Type\"]\n",
    "        current_dict[\"Cell Type\"] = current_cell\n",
    "        current_dict[row[\"Measurement\"]] = row[\"Value\"]\n",
    "    else:\n",
    "        # else add the measurement value into the appropriate measurement column\n",
    "        current_dict[row[\"Measurement\"]] = row[\"Value\"]\n",
    "\n",
    "del big_list[0]\n",
    "big_list[1]"
   ]
  },
  {
   "cell_type": "code",
   "execution_count": 11,
   "metadata": {
    "scrolled": true
   },
   "outputs": [
    {
     "data": {
      "text/html": [
       "<div>\n",
       "<style scoped>\n",
       "    .dataframe tbody tr th:only-of-type {\n",
       "        vertical-align: middle;\n",
       "    }\n",
       "\n",
       "    .dataframe tbody tr th {\n",
       "        vertical-align: top;\n",
       "    }\n",
       "\n",
       "    .dataframe thead th {\n",
       "        text-align: right;\n",
       "    }\n",
       "</style>\n",
       "<table border=\"1\" class=\"dataframe\">\n",
       "  <thead>\n",
       "    <tr style=\"text-align: right;\">\n",
       "      <th></th>\n",
       "      <th>Cell Type</th>\n",
       "      <th>resting membrane potential</th>\n",
       "      <th>spike threshold</th>\n",
       "      <th>spike amplitude</th>\n",
       "      <th>input resistance</th>\n",
       "      <th>membrane time constant</th>\n",
       "      <th>spike half-width</th>\n",
       "    </tr>\n",
       "  </thead>\n",
       "  <tbody>\n",
       "    <tr>\n",
       "      <th>0</th>\n",
       "      <td>Dorsal root ganglion cell</td>\n",
       "      <td>-54.30</td>\n",
       "      <td>-27.40</td>\n",
       "      <td>101.300000</td>\n",
       "      <td>192.00</td>\n",
       "      <td>14.630</td>\n",
       "      <td>3.122222</td>\n",
       "    </tr>\n",
       "    <tr>\n",
       "      <th>2</th>\n",
       "      <td>Hippocampus CA1 pyramidal cell</td>\n",
       "      <td>-64.80</td>\n",
       "      <td>-51.50</td>\n",
       "      <td>84.865093</td>\n",
       "      <td>100.60</td>\n",
       "      <td>27.900</td>\n",
       "      <td>1.600000</td>\n",
       "    </tr>\n",
       "    <tr>\n",
       "      <th>3</th>\n",
       "      <td>Cerebellar nucleus cell</td>\n",
       "      <td>-58.84</td>\n",
       "      <td>-68.58</td>\n",
       "      <td>72.225000</td>\n",
       "      <td>59.26</td>\n",
       "      <td>58.175</td>\n",
       "      <td>2.130000</td>\n",
       "    </tr>\n",
       "    <tr>\n",
       "      <th>4</th>\n",
       "      <td>Hippocampus CA3 pyramidal cell</td>\n",
       "      <td>-76.00</td>\n",
       "      <td>-58.00</td>\n",
       "      <td>78.985714</td>\n",
       "      <td>164.00</td>\n",
       "      <td>61.000</td>\n",
       "      <td>0.790000</td>\n",
       "    </tr>\n",
       "    <tr>\n",
       "      <th>5</th>\n",
       "      <td>Basalis nucleus cholinergic neuron</td>\n",
       "      <td>-48.00</td>\n",
       "      <td>-31.90</td>\n",
       "      <td>66.700000</td>\n",
       "      <td>268.00</td>\n",
       "      <td>28.200</td>\n",
       "      <td>0.520000</td>\n",
       "    </tr>\n",
       "  </tbody>\n",
       "</table>\n",
       "</div>"
      ],
      "text/plain": [
       "                            Cell Type  resting membrane potential  \\\n",
       "0           Dorsal root ganglion cell                      -54.30   \n",
       "2      Hippocampus CA1 pyramidal cell                      -64.80   \n",
       "3             Cerebellar nucleus cell                      -58.84   \n",
       "4      Hippocampus CA3 pyramidal cell                      -76.00   \n",
       "5  Basalis nucleus cholinergic neuron                      -48.00   \n",
       "\n",
       "   spike threshold  spike amplitude  input resistance  membrane time constant  \\\n",
       "0           -27.40       101.300000            192.00                  14.630   \n",
       "2           -51.50        84.865093            100.60                  27.900   \n",
       "3           -68.58        72.225000             59.26                  58.175   \n",
       "4           -58.00        78.985714            164.00                  61.000   \n",
       "5           -31.90        66.700000            268.00                  28.200   \n",
       "\n",
       "   spike half-width  \n",
       "0          3.122222  \n",
       "2          1.600000  \n",
       "3          2.130000  \n",
       "4          0.790000  \n",
       "5          0.520000  "
      ]
     },
     "execution_count": 11,
     "metadata": {},
     "output_type": "execute_result"
    }
   ],
   "source": [
    "# Fill in NaN values with mean values of that cell type's measurement (eg. the mean value of all values for a particular \n",
    "# cell's input resistance column will be filled in for that cell where values are missing in input resistance)\n",
    "\n",
    "mean_clean = pd.DataFrame(big_list)\n",
    "mean_clean[\"input resistance\"] = mean_clean.groupby(\"Cell Type\")[\"input resistance\"].transform(lambda x: x.fillna(x.mean()))\n",
    "mean_clean[\"membrane time constant\"] = mean_clean.groupby(\"Cell Type\")[\"membrane time constant\"].transform(lambda x: x.fillna(x.mean()))\n",
    "mean_clean[\"resting membrane potential\"] = mean_clean.groupby(\"Cell Type\")[\"resting membrane potential\"].transform(lambda x: x.fillna(x.mean()))\n",
    "mean_clean[\"spike amplitude\"] = mean_clean.groupby(\"Cell Type\")[\"spike amplitude\"].transform(lambda x: x.fillna(x.mean()))\n",
    "mean_clean[\"spike half-width\"] = mean_clean.groupby(\"Cell Type\")[\"spike half-width\"].transform(lambda x: x.fillna(x.mean()))\n",
    "mean_clean[\"spike threshold\"] = mean_clean.groupby(\"Cell Type\")[\"spike threshold\"].transform(lambda x: x.fillna(x.mean()))\n",
    "\n",
    "mean_clean = mean_clean.dropna()\n",
    "mean_clean = mean_clean.loc[mean_clean[\"Cell Type\"] != \"Other\"]\n",
    "mean_clean.head()"
   ]
  },
  {
   "cell_type": "code",
   "execution_count": 12,
   "metadata": {},
   "outputs": [
    {
     "data": {
      "text/plain": [
       "65"
      ]
     },
     "execution_count": 12,
     "metadata": {},
     "output_type": "execute_result"
    }
   ],
   "source": [
    "# Number of unique cell types in the dataset\n",
    "mean_clean[\"Cell Type\"].nunique()"
   ]
  },
  {
   "cell_type": "code",
   "execution_count": 13,
   "metadata": {
    "scrolled": true
   },
   "outputs": [
    {
     "data": {
      "text/plain": [
       "{'Amygdala basolateral nucleus pyramidal neuron': 18,\n",
       " 'Amygdala corticomedial nucleus pyramidal cell': 1,\n",
       " 'BNST (ALG)': 8,\n",
       " 'BNST common spiny neuron': 9,\n",
       " 'Basalis nucleus cholinergic neuron': 15,\n",
       " 'Cerebellar nucleus cell': 6,\n",
       " 'Cerebellum granule cell': 14,\n",
       " 'Dentate gyrus basket cell': 5,\n",
       " 'Dentate gyrus granule cell': 57,\n",
       " 'Dentate gyrus mossy cell': 6,\n",
       " 'Dorsal root ganglion cell': 49,\n",
       " 'Globus pallidus intrinsic cell': 2,\n",
       " 'Hippocampus CA1 IS-I neuron': 10,\n",
       " 'Hippocampus CA1 basket cell': 27,\n",
       " 'Hippocampus CA1 ivy neuron': 1,\n",
       " 'Hippocampus CA1 neurogliaform cell': 3,\n",
       " 'Hippocampus CA1 oriens lacunosum moleculare neuron': 13,\n",
       " 'Hippocampus CA1 pyramidal cell': 164,\n",
       " 'Hippocampus CA1 radiatum giant cell': 3,\n",
       " 'Hippocampus CA2 pyramidal neuron': 8,\n",
       " 'Hippocampus CA3 lacunosum moleculare neuron': 7,\n",
       " 'Hippocampus CA3 pyramidal cell': 49,\n",
       " 'Hippocampus CA3 stratum radiatum giant cell': 5,\n",
       " 'Hypoglossal nucleus motor neuron': 8,\n",
       " 'Hypothalamus oxytocin neuroendocrine magnocellular cell': 3,\n",
       " 'Inferior colliculus neuron': 15,\n",
       " 'Lateral amygdala projection neuron': 4,\n",
       " 'Locus coeruleus noradrenergic neuron': 8,\n",
       " 'Medial entorhinal cortex layer II stellate cell': 21,\n",
       " 'Medial entorhinal cortex layer III pyramidal cell': 21,\n",
       " 'Neocortex Martinotti cell': 83,\n",
       " 'Neocortex basket cell': 138,\n",
       " 'Neocortex bipolar cell': 2,\n",
       " 'Neocortex bouquet double cell': 11,\n",
       " 'Neocortex chandelier cell': 8,\n",
       " 'Neocortex interneuron deep': 53,\n",
       " 'Neocortex layer 4 stellate cell': 20,\n",
       " 'Neocortex pyramidal cell layer 2-3': 141,\n",
       " 'Neocortex pyramidal cell layer 5-6': 151,\n",
       " 'Neocortex stellate cell': 6,\n",
       " 'Neocortex uncharacterized cell': 73,\n",
       " 'Neostriatum cholinergic cell': 13,\n",
       " 'Neostriatum gabaergic interneuron': 30,\n",
       " 'Neostriatum medium spiny neuron': 67,\n",
       " 'Nucleus accumbens medium spiny neuron': 14,\n",
       " 'Nucleus accumbens shell neuron': 10,\n",
       " 'Nucleus of the solitary tract intrinsic cell': 6,\n",
       " 'Nucleus of the solitary tract principal cell': 12,\n",
       " 'Oculomotor nucleus motor neuron': 2,\n",
       " 'Olfactory bulb (main) Blanes cell': 7,\n",
       " 'Olfactory bulb (main) granule cell': 8,\n",
       " 'Olfactory bulb (main) mitral cell': 6,\n",
       " 'Olfactory cortex pyramidal cell': 8,\n",
       " 'Olfactory cortex semilunar cell': 2,\n",
       " 'Spinal cord ventral horn interneuron V2': 4,\n",
       " 'Spinal cord ventral horn motor neuron alpha': 20,\n",
       " 'Subiculum pyramidal cell': 22,\n",
       " 'Substantia nigra pars compacta dopaminergic cell': 17,\n",
       " 'Substantia nigra pars reticulata interneuron GABA': 8,\n",
       " 'Suprachiasmatic nucleus neuron': 7,\n",
       " 'Thalamic reticular nucleus cell': 16,\n",
       " 'Thalamus parafascicular nucleus neuron': 6,\n",
       " 'Thalamus relay cell': 22,\n",
       " 'Trigeminal nucleus motor neuron': 12,\n",
       " 'Trigeminal nucleus principal cell': 11}"
      ]
     },
     "execution_count": 13,
     "metadata": {},
     "output_type": "execute_result"
    }
   ],
   "source": [
    "# Full dictionary of cell types and number of occurrences\n",
    "unique, counts = np.unique(mean_clean[\"Cell Type\"], return_counts=True)\n",
    "dict(zip(unique, counts))"
   ]
  },
  {
   "cell_type": "code",
   "execution_count": null,
   "metadata": {
    "scrolled": true
   },
   "outputs": [],
   "source": [
    "# Obsolete, do not run (this fills in NA values of columns with the mean values and doesn't take into account cell type)\n",
    "# cleaned = pd.DataFrame(big_list)\n",
    "\n",
    "# mean_input_resist = cleaned[\"input resistance\"].mean()\n",
    "# mean_mem_const = cleaned[\"membrane time constant\"].mean()\n",
    "# mean_resting_mem = cleaned[\"resting membrane potential\"].mean()\n",
    "# mean_spike_amp = cleaned[\"spike amplitude\"].mean()\n",
    "# mean_spike_half = cleaned[\"spike half-width\"].mean()\n",
    "# mean_spike_thresh = cleaned[\"spike threshold\"].mean()\n",
    "\n",
    "# cleaned[\"input resistance\"].fillna(mean_input_resist, inplace=True)\n",
    "# cleaned[\"membrane time constant\"].fillna(mean_mem_const, inplace=True)\n",
    "# cleaned[\"resting membrane potential\"].fillna(mean_resting_mem, inplace=True)\n",
    "# cleaned[\"spike amplitude\"].fillna(mean_spike_amp, inplace=True)\n",
    "# cleaned[\"spike half-width\"].fillna(mean_spike_half, inplace=True)\n",
    "# cleaned[\"spike threshold\"].fillna(mean_spike_thresh, inplace=True)\n",
    "\n",
    "# cleaned"
   ]
  },
  {
   "cell_type": "code",
   "execution_count": null,
   "metadata": {
    "scrolled": true
   },
   "outputs": [],
   "source": [
    "# cleaned = cleaned.loc[cleaned[\"Cell Type\"] != \"Other\"]\n",
    "# cleaned"
   ]
  },
  {
   "cell_type": "code",
   "execution_count": null,
   "metadata": {
    "scrolled": true
   },
   "outputs": [],
   "source": [
    "# dropped = pd.DataFrame(big_list)\n",
    "# dropped = dropped.dropna(axis=0)\n",
    "# dropped.head()"
   ]
  },
  {
   "cell_type": "code",
   "execution_count": 14,
   "metadata": {},
   "outputs": [],
   "source": [
    "# Run machine learning on this narrowed down dataset\n",
    "X=mean_clean.drop(\"Cell Type\", axis=1)\n",
    "y=mean_clean[\"Cell Type\"]"
   ]
  },
  {
   "cell_type": "code",
   "execution_count": null,
   "metadata": {},
   "outputs": [],
   "source": [
    "x_train, x_test, y_train, y_test = train_test_split(X,y,test_size=0.20, random_state=42)"
   ]
  },
  {
   "cell_type": "code",
   "execution_count": null,
   "metadata": {},
   "outputs": [],
   "source": [
    "mean_clean[\"spike threshold\"].max()"
   ]
  },
  {
   "cell_type": "code",
   "execution_count": null,
   "metadata": {},
   "outputs": [],
   "source": [
    "x_test.head()"
   ]
  },
  {
   "cell_type": "markdown",
   "metadata": {},
   "source": [
    "### Random Forest model"
   ]
  },
  {
   "cell_type": "code",
   "execution_count": null,
   "metadata": {},
   "outputs": [],
   "source": [
    "#RFcls = Random Forest classifier\n",
    "RFcls= RandomForestClassifier(n_estimators=500, random_state=42)\n",
    "RFcls.fit(x_train, y_train)\n",
    "y_predict = RFcls.predict(x_test)"
   ]
  },
  {
   "cell_type": "code",
   "execution_count": null,
   "metadata": {},
   "outputs": [],
   "source": [
    "# how many right divided by the total\n",
    "print(accuracy_score(y_test, y_predict))"
   ]
  },
  {
   "cell_type": "code",
   "execution_count": null,
   "metadata": {},
   "outputs": [],
   "source": [
    "# Save the random forest model in the model directory\n",
    "\n",
    "filepath = '../model/machine_learning3_forest.sav'\n",
    "pickle.dump(RFcls, open(filepath, 'wb'))"
   ]
  },
  {
   "cell_type": "code",
   "execution_count": null,
   "metadata": {},
   "outputs": [],
   "source": [
    "loaded_model = pickle.load(open(filepath, 'rb'))\n",
    "result = loaded_model.score(x_test, y_test)\n",
    "print(result)"
   ]
  },
  {
   "cell_type": "markdown",
   "metadata": {},
   "source": [
    "### Gradient Boosting model (takes forever to run)"
   ]
  },
  {
   "cell_type": "code",
   "execution_count": null,
   "metadata": {},
   "outputs": [],
   "source": [
    "#GBcls = Gradient Boosting classifier\n",
    "GBcls= GradientBoostingClassifier(n_estimators=500, random_state=42)\n",
    "GBcls.fit(x_train, y_train)\n",
    "y_predict = GBcls.predict(x_test)"
   ]
  },
  {
   "cell_type": "code",
   "execution_count": null,
   "metadata": {},
   "outputs": [],
   "source": [
    "# Test accuracy of model\n",
    "print(accuracy_score(y_test, y_predict))"
   ]
  },
  {
   "cell_type": "code",
   "execution_count": null,
   "metadata": {},
   "outputs": [],
   "source": [
    "# Save the model in the model directory\n",
    "filepath = '../model/machine_learning3_gradboost.sav'\n",
    "pickle.dump(GBcls, open(filepath, 'wb'))"
   ]
  },
  {
   "cell_type": "markdown",
   "metadata": {},
   "source": [
    "### Load boosting model, take in user input"
   ]
  },
  {
   "cell_type": "code",
   "execution_count": null,
   "metadata": {},
   "outputs": [],
   "source": [
    "# load model\n",
    "filepath = '../model/machine_learning3_gradboost.sav'\n",
    "gradboost_model = pickle.load(open(filepath, 'rb'))\n",
    "result = gradboost_model.score(x_test, y_test)\n",
    "print(result)"
   ]
  },
  {
   "cell_type": "code",
   "execution_count": null,
   "metadata": {},
   "outputs": [],
   "source": [
    "# Pick any row from our train or test data as input\n",
    "user_input = np.array(x_train.iloc[42]).reshape(1,-1)"
   ]
  },
  {
   "cell_type": "code",
   "execution_count": null,
   "metadata": {
    "scrolled": true
   },
   "outputs": [],
   "source": [
    "# pd.DataFrame({\"true\": y_test, \"pred\": y_predict})\n",
    "\n",
    "#predicts probabilities for that class\n",
    "# round(gradboost_model.predict_proba(user_input).max()*100,2)\n",
    "\n",
    "# jsonify and pass to front end\n",
    "output = {\"predictions\": gradboost_model.predict(user_input)[0], \"probability\": round(gradboost_model.predict_proba(user_input).max()*100,2)}\n",
    "#jsonify this output\n",
    "output"
   ]
  },
  {
   "cell_type": "code",
   "execution_count": null,
   "metadata": {},
   "outputs": [],
   "source": [
    "# Validate that the prediction was actually correct\n",
    "y_train.iloc[42]"
   ]
  },
  {
   "cell_type": "code",
   "execution_count": null,
   "metadata": {},
   "outputs": [],
   "source": [
    "# Number of classifications\n",
    "y.nunique()"
   ]
  },
  {
   "cell_type": "markdown",
   "metadata": {},
   "source": [
    "### Deep learning model (Sequential model)"
   ]
  },
  {
   "cell_type": "code",
   "execution_count": null,
   "metadata": {},
   "outputs": [],
   "source": [
    "y_predict"
   ]
  },
  {
   "cell_type": "code",
   "execution_count": null,
   "metadata": {},
   "outputs": [],
   "source": [
    "# Machine learning model will not work on data categories with only 1 row\n",
    "# dropping all rows that have fewer than 5 data points associated with a category\n",
    "\n",
    "counts = mean_clean['Cell Type'].value_counts()\n",
    "greater_than_five = mean_clean[mean_clean['Cell Type'].isin(counts[counts >= 40].index)]\n",
    "\n",
    "# Run machine learning on this narrowed down dataset\n",
    "X=greater_than_five.drop(\"Cell Type\", axis=1)\n",
    "y=greater_than_five[\"Cell Type\"]"
   ]
  },
  {
   "cell_type": "code",
   "execution_count": null,
   "metadata": {
    "scrolled": true
   },
   "outputs": [],
   "source": [
    "greater_than_five"
   ]
  },
  {
   "cell_type": "code",
   "execution_count": null,
   "metadata": {},
   "outputs": [],
   "source": [
    "greater_than_five[\"Cell Type\"].value_counts()"
   ]
  },
  {
   "cell_type": "code",
   "execution_count": null,
   "metadata": {},
   "outputs": [],
   "source": [
    "# This code works in machine_learning2 notebook but not here. y is the same.  How come?\n",
    "X_train, X_test, y_train, y_test = train_test_split(X, y, random_state=42, stratify=y)"
   ]
  },
  {
   "cell_type": "code",
   "execution_count": null,
   "metadata": {
    "scrolled": true
   },
   "outputs": [],
   "source": [
    "X_scaler = StandardScaler().fit(X_train)\n",
    "X_train_scaled = X_scaler.transform(X_train)\n",
    "X_test_scaled = X_scaler.transform(X_test)\n",
    "\n",
    "# Step 1: Label-encode data set\n",
    "label_encoder = LabelEncoder()\n",
    "label_encoder.fit(y_train)\n",
    "encoded_y_train = label_encoder.transform(y_train)\n",
    "encoded_y_test = label_encoder.transform(y_test)\n",
    "\n",
    "# Step 2: Convert encoded labels to one-hot-encoding\n",
    "y_train_categorical = to_categorical(encoded_y_train)\n",
    "y_test_categorical = to_categorical(encoded_y_test)"
   ]
  },
  {
   "cell_type": "code",
   "execution_count": null,
   "metadata": {
    "scrolled": true
   },
   "outputs": [],
   "source": [
    "y_train_list = y_train.tolist()\n",
    "\n",
    "for i in range(0,len(y_train_list)):\n",
    "    print(y_train_list[i] + \" is now \" + str(y_train_categorical[i]))"
   ]
  },
  {
   "cell_type": "code",
   "execution_count": null,
   "metadata": {},
   "outputs": [],
   "source": [
    "# Create model and add layers\n",
    "model = Sequential()\n",
    "model.add(Dense(units=18, activation='relu', input_dim=6))\n",
    "model.add(Dense(units=20, activation='relu'))\n",
    "model.add(Dense(units=11, activation='softmax'))"
   ]
  },
  {
   "cell_type": "code",
   "execution_count": null,
   "metadata": {},
   "outputs": [],
   "source": [
    "model.summary()"
   ]
  },
  {
   "cell_type": "code",
   "execution_count": null,
   "metadata": {
    "scrolled": true
   },
   "outputs": [],
   "source": [
    "model.compile(optimizer='adam',\n",
    "              loss='categorical_crossentropy',\n",
    "              metrics=['accuracy'])\n",
    "model.fit(\n",
    "    X_train_scaled,\n",
    "    y_train_categorical,\n",
    "    epochs=100,\n",
    "    shuffle=True,\n",
    "    verbose=2\n",
    ")"
   ]
  },
  {
   "cell_type": "code",
   "execution_count": null,
   "metadata": {},
   "outputs": [],
   "source": [
    "model_loss, model_accuracy = model.evaluate(\n",
    "    X_test_scaled, y_test_categorical, verbose=2)\n",
    "print(\n",
    "    f\"Normal Neural Network - Loss: {model_loss}, Accuracy: {model_accuracy}\")"
   ]
  },
  {
   "cell_type": "code",
   "execution_count": null,
   "metadata": {},
   "outputs": [],
   "source": [
    "# Save the model\n",
    "model.save(\"../model/machine_learning3_seq.h5\")"
   ]
  },
  {
   "cell_type": "markdown",
   "metadata": {},
   "source": [
    "# Getting model to predict a neuron (user input is hard-coded)"
   ]
  },
  {
   "cell_type": "code",
   "execution_count": null,
   "metadata": {},
   "outputs": [],
   "source": [
    "data = np.array([192,14,-54,101,3,-27]).reshape(6,)\n",
    "# print(data.shape)\n",
    "prediction = model.predict(np.array([data]))\n",
    "print(prediction.shape)\n",
    "# prediction=prediction.astype(int)\n",
    "# prediction_string = prediction.argmax(axis=-1)\n",
    "# type(prediction_string)\n",
    "print(prediction)\n",
    "# print(list(label_encoder.classes_))\n",
    "# list(label_encoder.inverse_transform(prediction))\n",
    "\n",
    "# prediction_string = keras.np_utils.probas_to_classes(prediction)\n",
    "# prediction_string\n",
    "# prediction_string = model.predict_classes(np.array([data]))\n",
    "# prediction_string\n",
    "print(type(prediction))"
   ]
  },
  {
   "cell_type": "code",
   "execution_count": null,
   "metadata": {
    "scrolled": true
   },
   "outputs": [],
   "source": [
    "print(prediction.tolist())\n",
    "the_pred = prediction.tolist()\n",
    "flat_pred= [y for x in the_pred for y in x]\n",
    "print(flat_pred)\n",
    "count = 0\n",
    "for i in flat_pred:\n",
    "    count +=1\n",
    "    #print(i)\n",
    "    #print(flat_pred[i])\n",
    "    if i == 1:\n",
    "        the_index = i\n",
    "        print(label_encoder.inverse_transform(count))"
   ]
  },
  {
   "cell_type": "code",
   "execution_count": null,
   "metadata": {},
   "outputs": [],
   "source": [
    "y_train_list = y_train.tolist()\n",
    "\n",
    "for i in range(0,len(y_train_list)):\n",
    "    print(y_train_list[i] + \" is now \" + str(y_train_categorical[i]))"
   ]
  },
  {
   "cell_type": "code",
   "execution_count": null,
   "metadata": {},
   "outputs": [],
   "source": [
    "prediction\n",
    "np.unique(y_train_categorical)\n",
    "type(y_train_categorical)\n",
    "unique_rows = np.unique(y_train_categorical, axis=0)\n",
    "unique_rows"
   ]
  },
  {
   "cell_type": "code",
   "execution_count": null,
   "metadata": {},
   "outputs": [],
   "source": [
    "# I can't zip this together with unique_rows because they're not in the same order\n",
    "my_set = set(y_train_list)\n",
    "my_set"
   ]
  },
  {
   "cell_type": "code",
   "execution_count": null,
   "metadata": {},
   "outputs": [],
   "source": [
    "y_train_categorical"
   ]
  },
  {
   "cell_type": "code",
   "execution_count": null,
   "metadata": {},
   "outputs": [],
   "source": [
    "np.array(y_train)"
   ]
  },
  {
   "cell_type": "code",
   "execution_count": null,
   "metadata": {},
   "outputs": [],
   "source": [
    "list(prediction)"
   ]
  },
  {
   "cell_type": "code",
   "execution_count": null,
   "metadata": {},
   "outputs": [],
   "source": [
    "# zip pre-encoded and post-encoded classifications together\n",
    "categories = list(zip(y_train_categorical, np.array(y_train)))\n",
    "categories[1]\n",
    "\n",
    "my_lists = []\n",
    "for i in categories:\n",
    "    my_lists.append(list(i))\n",
    "my_lists[0]"
   ]
  },
  {
   "cell_type": "code",
   "execution_count": null,
   "metadata": {},
   "outputs": [],
   "source": [
    "# if the prediction array is the same as the encoded classification, print the corresponding label\n",
    "for i in my_lists:\n",
    "#     print(i[0])\n",
    "#     print(prediction[0])\n",
    "    if all(i[0] == prediction[0]):\n",
    "        result = i[1]\n",
    "print(result)"
   ]
  },
  {
   "cell_type": "code",
   "execution_count": null,
   "metadata": {},
   "outputs": [],
   "source": [
    "y_train_categorical"
   ]
  },
  {
   "cell_type": "markdown",
   "metadata": {},
   "source": [
    "# Load model, predict using dynamic user data"
   ]
  },
  {
   "cell_type": "code",
   "execution_count": null,
   "metadata": {},
   "outputs": [],
   "source": [
    "seq_model=load_model(\"../model/machine_learning3_seq.h5\")"
   ]
  },
  {
   "cell_type": "code",
   "execution_count": null,
   "metadata": {},
   "outputs": [],
   "source": [
    "# Saving minimum and maximum values for each measurement into variables\n",
    "\n",
    "# Min/ max input resistance values\n",
    "min_ir = greater_than_five[\"input resistance\"].min()\n",
    "max_ir = greater_than_five[\"input resistance\"].max()\n",
    "# Min/max membrane time constant values\n",
    "min_mtc = greater_than_five[\"membrane time constant\"].min()\n",
    "max_mtc = greater_than_five[\"membrane time constant\"].max()\n",
    "# Min/ max resting membrane potential values\n",
    "min_rmp = greater_than_five[\"resting membrane potential\"].min()\n",
    "max_rmp = greater_than_five[\"resting membrane potential\"].max()\n",
    "# Min/max spike amplitude values\n",
    "min_sa = greater_than_five[\"spike amplitude\"].min()\n",
    "max_sa = greater_than_five[\"spike amplitude\"].max()\n",
    "# Min/max spike half-width values\n",
    "min_shw = greater_than_five[\"spike half-width\"].min()\n",
    "max_shw = greater_than_five[\"spike half-width\"].max()\n",
    "# Min/max spike threshold values\n",
    "min_st = greater_than_five[\"spike threshold\"].min()\n",
    "max_st = greater_than_five[\"spike threshold\"].max()"
   ]
  },
  {
   "cell_type": "code",
   "execution_count": null,
   "metadata": {
    "scrolled": true
   },
   "outputs": [],
   "source": [
    "# Attempt to pass in user input into \"data\" below using input()\n",
    "input_resistance = input(\"input_resistance value (between {} and {}): \".format(min_ir, max_ir))\n",
    "membrane_time_constant = input(\"membrane_time_constant value (between {} and {}): \".format(min_mtc, max_mtc))\n",
    "resting_membrane_potential = input(\"resting_membrane_potential value (between {} and {}): \".format(min_rmp, max_rmp))\n",
    "spike_amplitude = input(\"spike_amplitude value (between {} and {}): \".format(min_sa, max_sa))\n",
    "spike_halfwidth = input(\"spike_half-width value (between {} and {}): \".format(min_shw, max_shw))\n",
    "spike_threshold = input(\"spike_threshold value (between {} and {}): \".format(min_st, max_st))\n",
    "\n",
    "input_resistance\n",
    "membrane_time_constant\n",
    "resting_membrane_potential\n",
    "spike_amplitude\n",
    "spike_halfwidth\n",
    "spike_threshold"
   ]
  },
  {
   "cell_type": "code",
   "execution_count": null,
   "metadata": {},
   "outputs": [],
   "source": [
    "# Place user data into numpy array in same order as dataframe's columns\n",
    "user_data = np.array([input_resistance, membrane_time_constant, resting_membrane_potential, spike_amplitude, spike_halfwidth, spike_threshold]).reshape(6,).astype(np.float32)\n",
    "user_data"
   ]
  },
  {
   "cell_type": "code",
   "execution_count": null,
   "metadata": {},
   "outputs": [],
   "source": [
    "prediction = seq_model.predict(np.array([user_data]))\n",
    "prediction"
   ]
  },
  {
   "cell_type": "code",
   "execution_count": null,
   "metadata": {},
   "outputs": [],
   "source": [
    "categories = list(zip(y_train_categorical, np.array(y_train)))\n",
    "categories[1]\n",
    "\n",
    "my_lists = []\n",
    "for i in categories:\n",
    "    my_lists.append(list(i))\n",
    "my_lists[1]"
   ]
  },
  {
   "cell_type": "code",
   "execution_count": null,
   "metadata": {
    "scrolled": true
   },
   "outputs": [],
   "source": [
    "y_train.unique()"
   ]
  },
  {
   "cell_type": "code",
   "execution_count": null,
   "metadata": {},
   "outputs": [],
   "source": [
    "for i in my_lists:\n",
    "    print(i[1])"
   ]
  },
  {
   "cell_type": "code",
   "execution_count": null,
   "metadata": {},
   "outputs": [],
   "source": [
    "for i in my_lists:\n",
    "#     print(i[0])\n",
    "#     print(prediction[0])\n",
    "    if all(i[0] == prediction[0]):\n",
    "        result = i[1]\n",
    "print(result + )"
   ]
  },
  {
   "cell_type": "markdown",
   "metadata": {},
   "source": [
    "# Filter data, run machine learning on filtered data (probably won't use this)"
   ]
  },
  {
   "cell_type": "code",
   "execution_count": null,
   "metadata": {},
   "outputs": [],
   "source": [
    "words = [\"CA1\", \"CA3\"]\n",
    "for i, row in cleaned.iterrows():\n",
    "    if any(word in row[\"Cell Type\"] for word in words):\n",
    "#         print(\"true\")0\n",
    "        cleaned.loc[i, \"Area\"] = \"Hippocampus\"\n",
    "#         row[\"Area\"] = \"Hippocampus\"\n",
    "    else:\n",
    "        cleaned.loc[i, \"Area\"] = \"other\"\n",
    "        row[\"Area\"] = \"other\""
   ]
  },
  {
   "cell_type": "code",
   "execution_count": null,
   "metadata": {
    "scrolled": true
   },
   "outputs": [],
   "source": [
    "hippo_df = cleaned.loc[cleaned[\"Area\"] == \"Hippocampus\"]\n",
    "X=hippo_df.drop([\"Cell Type\", \"Area\"], axis=1)\n",
    "y=hippo_df[\"Cell Type\"]"
   ]
  },
  {
   "cell_type": "code",
   "execution_count": null,
   "metadata": {
    "scrolled": true
   },
   "outputs": [],
   "source": [
    "print(y)"
   ]
  },
  {
   "cell_type": "code",
   "execution_count": null,
   "metadata": {
    "scrolled": true
   },
   "outputs": [],
   "source": [
    "y=y.tolist()\n",
    "\n",
    "X_train, X_test, y_train, y_test = train_test_split(X, y, random_state=1)\n",
    "\n",
    "X_scaler = StandardScaler().fit(X_train)\n",
    "X_train_scaled = X_scaler.transform(X_train)\n",
    "X_test_scaled = X_scaler.transform(X_test)\n",
    "\n",
    "# Step 1: Label-encode data set\n",
    "encoded_y_train = label_encoder.transform(y_train)\n",
    "encoded_y_test = label_encoder.transform(y_test)\n",
    "\n",
    "# Step 2: Convert encoded labels to one-hot-encoding\n",
    "y_train_categorical = to_categorical(encoded_y_train)\n",
    "y_test_categorical = to_categorical(encoded_y_test)"
   ]
  },
  {
   "cell_type": "code",
   "execution_count": null,
   "metadata": {
    "scrolled": true
   },
   "outputs": [],
   "source": [
    "y_train"
   ]
  },
  {
   "cell_type": "code",
   "execution_count": null,
   "metadata": {},
   "outputs": [],
   "source": [
    "y_train_categorical"
   ]
  }
 ],
 "metadata": {
  "kernelspec": {
   "display_name": "Python 3",
   "language": "python",
   "name": "python3"
  },
  "language_info": {
   "codemirror_mode": {
    "name": "ipython",
    "version": 3
   },
   "file_extension": ".py",
   "mimetype": "text/x-python",
   "name": "python",
   "nbconvert_exporter": "python",
   "pygments_lexer": "ipython3",
   "version": "3.7.9"
  }
 },
 "nbformat": 4,
 "nbformat_minor": 2
}
